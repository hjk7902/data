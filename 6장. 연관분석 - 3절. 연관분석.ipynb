{
 "cells": [
  {
   "cell_type": "code",
   "execution_count": 1,
   "metadata": {
    "ExecuteTime": {
     "end_time": "2021-04-04T03:53:16.791376Z",
     "start_time": "2021-04-04T03:53:16.780368Z"
    },
    "slideshow": {
     "slide_type": "-"
    }
   },
   "outputs": [
    {
     "data": {
      "text/html": [
       "<style>.container { width:100% !important; }</style>"
      ],
      "text/plain": [
       "<IPython.core.display.HTML object>"
      ]
     },
     "metadata": {},
     "output_type": "display_data"
    }
   ],
   "source": [
    "from IPython.display import display, HTML\n",
    "display(HTML(\"<style>.container { width:100% !important; }</style>\"))"
   ]
  },
  {
   "cell_type": "code",
   "execution_count": 2,
   "metadata": {
    "ExecuteTime": {
     "end_time": "2021-04-04T03:53:18.049833Z",
     "start_time": "2021-04-04T03:53:18.032838Z"
    }
   },
   "outputs": [],
   "source": [
    "import csv\n",
    "with open('basket.csv', 'r', encoding='utf-8') as cf:\n",
    "    transactions = [] \n",
    "    r = csv.reader(cf)\n",
    "    for row in r:\n",
    "        transactions.append(row)"
   ]
  },
  {
   "cell_type": "code",
   "execution_count": 3,
   "metadata": {
    "ExecuteTime": {
     "end_time": "2021-04-04T03:53:18.759861Z",
     "start_time": "2021-04-04T03:53:18.740880Z"
    }
   },
   "outputs": [
    {
     "data": {
      "text/plain": [
       "[['소주', '콜라', '와인'],\n",
       " ['소주', '오렌지주스', '콜라'],\n",
       " ['콜라', '맥주', '와인'],\n",
       " ['소주', '콜라', '맥주'],\n",
       " ['오렌지주스', '와인']]"
      ]
     },
     "execution_count": 3,
     "metadata": {},
     "output_type": "execute_result"
    }
   ],
   "source": [
    "transactions"
   ]
  },
  {
   "cell_type": "code",
   "execution_count": 4,
   "metadata": {
    "ExecuteTime": {
     "end_time": "2021-04-04T03:53:31.345626Z",
     "start_time": "2021-04-04T03:53:31.341628Z"
    }
   },
   "outputs": [],
   "source": [
    "from apyori import apriori\n",
    "rules = apriori(transactions, min_support=0.1, min_confidence=0.1)  \n",
    "results = list(rules)"
   ]
  },
  {
   "cell_type": "code",
   "execution_count": 5,
   "metadata": {
    "ExecuteTime": {
     "end_time": "2021-04-04T03:53:39.551796Z",
     "start_time": "2021-04-04T03:53:39.540787Z"
    }
   },
   "outputs": [
    {
     "data": {
      "text/plain": [
       "list"
      ]
     },
     "execution_count": 5,
     "metadata": {},
     "output_type": "execute_result"
    }
   ],
   "source": [
    "type(results)"
   ]
  },
  {
   "cell_type": "code",
   "execution_count": 6,
   "metadata": {
    "ExecuteTime": {
     "end_time": "2021-04-04T03:53:51.646153Z",
     "start_time": "2021-04-04T03:53:51.634159Z"
    }
   },
   "outputs": [
    {
     "data": {
      "text/plain": [
       "18"
      ]
     },
     "execution_count": 6,
     "metadata": {},
     "output_type": "execute_result"
    }
   ],
   "source": [
    "len(results)"
   ]
  },
  {
   "cell_type": "code",
   "execution_count": 7,
   "metadata": {
    "ExecuteTime": {
     "end_time": "2021-04-04T03:53:54.029851Z",
     "start_time": "2021-04-04T03:53:54.011845Z"
    }
   },
   "outputs": [
    {
     "data": {
      "text/plain": [
       "RelationRecord(items=frozenset({'맥주'}), support=0.4, ordered_statistics=[OrderedStatistic(items_base=frozenset(), items_add=frozenset({'맥주'}), confidence=0.4, lift=1.0)])"
      ]
     },
     "execution_count": 7,
     "metadata": {},
     "output_type": "execute_result"
    }
   ],
   "source": [
    "results[0]"
   ]
  },
  {
   "cell_type": "code",
   "execution_count": 8,
   "metadata": {
    "ExecuteTime": {
     "end_time": "2021-04-04T03:53:57.261281Z",
     "start_time": "2021-04-04T03:53:57.253284Z"
    }
   },
   "outputs": [
    {
     "data": {
      "text/plain": [
       "RelationRecord(items=frozenset({'소주', '콜라'}), support=0.6, ordered_statistics=[OrderedStatistic(items_base=frozenset(), items_add=frozenset({'소주', '콜라'}), confidence=0.6, lift=1.0), OrderedStatistic(items_base=frozenset({'소주'}), items_add=frozenset({'콜라'}), confidence=1.0, lift=1.25), OrderedStatistic(items_base=frozenset({'콜라'}), items_add=frozenset({'소주'}), confidence=0.7499999999999999, lift=1.2499999999999998)])"
      ]
     },
     "execution_count": 8,
     "metadata": {},
     "output_type": "execute_result"
    }
   ],
   "source": [
    "results[10]"
   ]
  },
  {
   "cell_type": "code",
   "execution_count": 9,
   "metadata": {
    "ExecuteTime": {
     "end_time": "2021-04-04T03:54:23.874491Z",
     "start_time": "2021-04-04T03:54:23.858497Z"
    }
   },
   "outputs": [
    {
     "name": "stdout",
     "output_type": "stream",
     "text": [
      "lhs => rhs \tsupport \tconfidence \tlift\n",
      "[]  =>  ['맥주'] \t0.4000\t0.4000\t1.0000\n",
      "[]  =>  ['소주'] \t0.6000\t0.6000\t1.0000\n",
      "[]  =>  ['오렌지주스'] \t0.4000\t0.4000\t1.0000\n",
      "[]  =>  ['와인'] \t0.6000\t0.6000\t1.0000\n",
      "[]  =>  ['콜라'] \t0.8000\t0.8000\t1.0000\n",
      "[]  =>  ['소주', '맥주'] \t0.2000\t0.2000\t1.0000\n",
      "['맥주']  =>  ['소주'] \t0.2000\t0.5000\t0.8333\n",
      "['소주']  =>  ['맥주'] \t0.2000\t0.3333\t0.8333\n",
      "[]  =>  ['와인', '맥주'] \t0.2000\t0.2000\t1.0000\n",
      "['맥주']  =>  ['와인'] \t0.2000\t0.5000\t0.8333\n",
      "['와인']  =>  ['맥주'] \t0.2000\t0.3333\t0.8333\n",
      "[]  =>  ['맥주', '콜라'] \t0.4000\t0.4000\t1.0000\n",
      "['맥주']  =>  ['콜라'] \t0.4000\t1.0000\t1.2500\n",
      "['콜라']  =>  ['맥주'] \t0.4000\t0.5000\t1.2500\n",
      "[]  =>  ['소주', '오렌지주스'] \t0.2000\t0.2000\t1.0000\n",
      "['소주']  =>  ['오렌지주스'] \t0.2000\t0.3333\t0.8333\n",
      "['오렌지주스']  =>  ['소주'] \t0.2000\t0.5000\t0.8333\n",
      "[]  =>  ['와인', '소주'] \t0.2000\t0.2000\t1.0000\n",
      "['소주']  =>  ['와인'] \t0.2000\t0.3333\t0.5556\n",
      "['와인']  =>  ['소주'] \t0.2000\t0.3333\t0.5556\n",
      "[]  =>  ['소주', '콜라'] \t0.6000\t0.6000\t1.0000\n",
      "['소주']  =>  ['콜라'] \t0.6000\t1.0000\t1.2500\n",
      "['콜라']  =>  ['소주'] \t0.6000\t0.7500\t1.2500\n",
      "[]  =>  ['와인', '오렌지주스'] \t0.2000\t0.2000\t1.0000\n",
      "['오렌지주스']  =>  ['와인'] \t0.2000\t0.5000\t0.8333\n",
      "['와인']  =>  ['오렌지주스'] \t0.2000\t0.3333\t0.8333\n",
      "[]  =>  ['오렌지주스', '콜라'] \t0.2000\t0.2000\t1.0000\n",
      "['오렌지주스']  =>  ['콜라'] \t0.2000\t0.5000\t0.6250\n",
      "['콜라']  =>  ['오렌지주스'] \t0.2000\t0.2500\t0.6250\n",
      "[]  =>  ['와인', '콜라'] \t0.4000\t0.4000\t1.0000\n",
      "['와인']  =>  ['콜라'] \t0.4000\t0.6667\t0.8333\n",
      "['콜라']  =>  ['와인'] \t0.4000\t0.5000\t0.8333\n",
      "[]  =>  ['소주', '맥주', '콜라'] \t0.2000\t0.2000\t1.0000\n",
      "['맥주']  =>  ['소주', '콜라'] \t0.2000\t0.5000\t0.8333\n",
      "['소주']  =>  ['맥주', '콜라'] \t0.2000\t0.3333\t0.8333\n",
      "['콜라']  =>  ['소주', '맥주'] \t0.2000\t0.2500\t1.2500\n",
      "['소주', '맥주']  =>  ['콜라'] \t0.2000\t1.0000\t1.2500\n",
      "['맥주', '콜라']  =>  ['소주'] \t0.2000\t0.5000\t0.8333\n",
      "['소주', '콜라']  =>  ['맥주'] \t0.2000\t0.3333\t0.8333\n",
      "[]  =>  ['와인', '맥주', '콜라'] \t0.2000\t0.2000\t1.0000\n",
      "['맥주']  =>  ['와인', '콜라'] \t0.2000\t0.5000\t1.2500\n",
      "['와인']  =>  ['맥주', '콜라'] \t0.2000\t0.3333\t0.8333\n",
      "['콜라']  =>  ['와인', '맥주'] \t0.2000\t0.2500\t1.2500\n",
      "['와인', '맥주']  =>  ['콜라'] \t0.2000\t1.0000\t1.2500\n",
      "['맥주', '콜라']  =>  ['와인'] \t0.2000\t0.5000\t0.8333\n",
      "['와인', '콜라']  =>  ['맥주'] \t0.2000\t0.5000\t1.2500\n",
      "[]  =>  ['소주', '오렌지주스', '콜라'] \t0.2000\t0.2000\t1.0000\n",
      "['소주']  =>  ['오렌지주스', '콜라'] \t0.2000\t0.3333\t1.6667\n",
      "['오렌지주스']  =>  ['소주', '콜라'] \t0.2000\t0.5000\t0.8333\n",
      "['콜라']  =>  ['소주', '오렌지주스'] \t0.2000\t0.2500\t1.2500\n",
      "['소주', '오렌지주스']  =>  ['콜라'] \t0.2000\t1.0000\t1.2500\n",
      "['소주', '콜라']  =>  ['오렌지주스'] \t0.2000\t0.3333\t0.8333\n",
      "['오렌지주스', '콜라']  =>  ['소주'] \t0.2000\t1.0000\t1.6667\n",
      "[]  =>  ['와인', '소주', '콜라'] \t0.2000\t0.2000\t1.0000\n",
      "['소주']  =>  ['와인', '콜라'] \t0.2000\t0.3333\t0.8333\n",
      "['와인']  =>  ['소주', '콜라'] \t0.2000\t0.3333\t0.5556\n",
      "['콜라']  =>  ['와인', '소주'] \t0.2000\t0.2500\t1.2500\n",
      "['와인', '소주']  =>  ['콜라'] \t0.2000\t1.0000\t1.2500\n",
      "['소주', '콜라']  =>  ['와인'] \t0.2000\t0.3333\t0.5556\n",
      "['와인', '콜라']  =>  ['소주'] \t0.2000\t0.5000\t0.8333\n"
     ]
    }
   ],
   "source": [
    "print(\"lhs => rhs \\tsupport \\tconfidence \\tlift\")\n",
    "for row in results:\n",
    "    support = row[1]\n",
    "    ordered_stat = row[2]\n",
    "    for ordered_item in ordered_stat:\n",
    "        lhs = [x for x in ordered_item[0]]\n",
    "        rhs = [x for x in ordered_item[1]]\n",
    "        confidence = ordered_item[2]\n",
    "        lift = ordered_item[3]\n",
    "        print(lhs, \" => \", rhs, \"\\t{:>5.4f}\\t{:>5.4f}\\t{:>5.4f}\".\\\n",
    "              format(support, confidence, lift))"
   ]
  },
  {
   "cell_type": "code",
   "execution_count": 10,
   "metadata": {},
   "outputs": [
    {
     "data": {
      "text/html": [
       "<div>\n",
       "<style scoped>\n",
       "    .dataframe tbody tr th:only-of-type {\n",
       "        vertical-align: middle;\n",
       "    }\n",
       "\n",
       "    .dataframe tbody tr th {\n",
       "        vertical-align: top;\n",
       "    }\n",
       "\n",
       "    .dataframe thead th {\n",
       "        text-align: right;\n",
       "    }\n",
       "</style>\n",
       "<table border=\"1\" class=\"dataframe\">\n",
       "  <thead>\n",
       "    <tr style=\"text-align: right;\">\n",
       "      <th></th>\n",
       "      <th>lhs</th>\n",
       "      <th>rhs</th>\n",
       "      <th>support</th>\n",
       "      <th>confidence</th>\n",
       "      <th>lift</th>\n",
       "    </tr>\n",
       "  </thead>\n",
       "  <tbody>\n",
       "    <tr>\n",
       "      <th>0</th>\n",
       "      <td></td>\n",
       "      <td>맥주</td>\n",
       "      <td>0.4</td>\n",
       "      <td>0.400000</td>\n",
       "      <td>1.000000</td>\n",
       "    </tr>\n",
       "    <tr>\n",
       "      <th>1</th>\n",
       "      <td></td>\n",
       "      <td>소주</td>\n",
       "      <td>0.6</td>\n",
       "      <td>0.600000</td>\n",
       "      <td>1.000000</td>\n",
       "    </tr>\n",
       "    <tr>\n",
       "      <th>2</th>\n",
       "      <td></td>\n",
       "      <td>오렌지주스</td>\n",
       "      <td>0.4</td>\n",
       "      <td>0.400000</td>\n",
       "      <td>1.000000</td>\n",
       "    </tr>\n",
       "    <tr>\n",
       "      <th>3</th>\n",
       "      <td></td>\n",
       "      <td>와인</td>\n",
       "      <td>0.6</td>\n",
       "      <td>0.600000</td>\n",
       "      <td>1.000000</td>\n",
       "    </tr>\n",
       "    <tr>\n",
       "      <th>4</th>\n",
       "      <td></td>\n",
       "      <td>콜라</td>\n",
       "      <td>0.8</td>\n",
       "      <td>0.800000</td>\n",
       "      <td>1.000000</td>\n",
       "    </tr>\n",
       "    <tr>\n",
       "      <th>5</th>\n",
       "      <td></td>\n",
       "      <td>소주,맥주</td>\n",
       "      <td>0.2</td>\n",
       "      <td>0.200000</td>\n",
       "      <td>1.000000</td>\n",
       "    </tr>\n",
       "    <tr>\n",
       "      <th>6</th>\n",
       "      <td>맥주</td>\n",
       "      <td>소주</td>\n",
       "      <td>0.2</td>\n",
       "      <td>0.500000</td>\n",
       "      <td>0.833333</td>\n",
       "    </tr>\n",
       "    <tr>\n",
       "      <th>7</th>\n",
       "      <td>소주</td>\n",
       "      <td>맥주</td>\n",
       "      <td>0.2</td>\n",
       "      <td>0.333333</td>\n",
       "      <td>0.833333</td>\n",
       "    </tr>\n",
       "    <tr>\n",
       "      <th>8</th>\n",
       "      <td></td>\n",
       "      <td>와인,맥주</td>\n",
       "      <td>0.2</td>\n",
       "      <td>0.200000</td>\n",
       "      <td>1.000000</td>\n",
       "    </tr>\n",
       "    <tr>\n",
       "      <th>9</th>\n",
       "      <td>맥주</td>\n",
       "      <td>와인</td>\n",
       "      <td>0.2</td>\n",
       "      <td>0.500000</td>\n",
       "      <td>0.833333</td>\n",
       "    </tr>\n",
       "    <tr>\n",
       "      <th>10</th>\n",
       "      <td>와인</td>\n",
       "      <td>맥주</td>\n",
       "      <td>0.2</td>\n",
       "      <td>0.333333</td>\n",
       "      <td>0.833333</td>\n",
       "    </tr>\n",
       "    <tr>\n",
       "      <th>11</th>\n",
       "      <td></td>\n",
       "      <td>맥주,콜라</td>\n",
       "      <td>0.4</td>\n",
       "      <td>0.400000</td>\n",
       "      <td>1.000000</td>\n",
       "    </tr>\n",
       "    <tr>\n",
       "      <th>12</th>\n",
       "      <td>맥주</td>\n",
       "      <td>콜라</td>\n",
       "      <td>0.4</td>\n",
       "      <td>1.000000</td>\n",
       "      <td>1.250000</td>\n",
       "    </tr>\n",
       "    <tr>\n",
       "      <th>13</th>\n",
       "      <td>콜라</td>\n",
       "      <td>맥주</td>\n",
       "      <td>0.4</td>\n",
       "      <td>0.500000</td>\n",
       "      <td>1.250000</td>\n",
       "    </tr>\n",
       "    <tr>\n",
       "      <th>14</th>\n",
       "      <td></td>\n",
       "      <td>소주,오렌지주스</td>\n",
       "      <td>0.2</td>\n",
       "      <td>0.200000</td>\n",
       "      <td>1.000000</td>\n",
       "    </tr>\n",
       "    <tr>\n",
       "      <th>15</th>\n",
       "      <td>소주</td>\n",
       "      <td>오렌지주스</td>\n",
       "      <td>0.2</td>\n",
       "      <td>0.333333</td>\n",
       "      <td>0.833333</td>\n",
       "    </tr>\n",
       "    <tr>\n",
       "      <th>16</th>\n",
       "      <td>오렌지주스</td>\n",
       "      <td>소주</td>\n",
       "      <td>0.2</td>\n",
       "      <td>0.500000</td>\n",
       "      <td>0.833333</td>\n",
       "    </tr>\n",
       "    <tr>\n",
       "      <th>17</th>\n",
       "      <td></td>\n",
       "      <td>와인,소주</td>\n",
       "      <td>0.2</td>\n",
       "      <td>0.200000</td>\n",
       "      <td>1.000000</td>\n",
       "    </tr>\n",
       "    <tr>\n",
       "      <th>18</th>\n",
       "      <td>소주</td>\n",
       "      <td>와인</td>\n",
       "      <td>0.2</td>\n",
       "      <td>0.333333</td>\n",
       "      <td>0.555556</td>\n",
       "    </tr>\n",
       "    <tr>\n",
       "      <th>19</th>\n",
       "      <td>와인</td>\n",
       "      <td>소주</td>\n",
       "      <td>0.2</td>\n",
       "      <td>0.333333</td>\n",
       "      <td>0.555556</td>\n",
       "    </tr>\n",
       "    <tr>\n",
       "      <th>20</th>\n",
       "      <td></td>\n",
       "      <td>소주,콜라</td>\n",
       "      <td>0.6</td>\n",
       "      <td>0.600000</td>\n",
       "      <td>1.000000</td>\n",
       "    </tr>\n",
       "    <tr>\n",
       "      <th>21</th>\n",
       "      <td>소주</td>\n",
       "      <td>콜라</td>\n",
       "      <td>0.6</td>\n",
       "      <td>1.000000</td>\n",
       "      <td>1.250000</td>\n",
       "    </tr>\n",
       "    <tr>\n",
       "      <th>22</th>\n",
       "      <td>콜라</td>\n",
       "      <td>소주</td>\n",
       "      <td>0.6</td>\n",
       "      <td>0.750000</td>\n",
       "      <td>1.250000</td>\n",
       "    </tr>\n",
       "    <tr>\n",
       "      <th>23</th>\n",
       "      <td></td>\n",
       "      <td>와인,오렌지주스</td>\n",
       "      <td>0.2</td>\n",
       "      <td>0.200000</td>\n",
       "      <td>1.000000</td>\n",
       "    </tr>\n",
       "    <tr>\n",
       "      <th>24</th>\n",
       "      <td>오렌지주스</td>\n",
       "      <td>와인</td>\n",
       "      <td>0.2</td>\n",
       "      <td>0.500000</td>\n",
       "      <td>0.833333</td>\n",
       "    </tr>\n",
       "  </tbody>\n",
       "</table>\n",
       "</div>"
      ],
      "text/plain": [
       "      lhs       rhs  support  confidence      lift\n",
       "0                맥주      0.4    0.400000  1.000000\n",
       "1                소주      0.6    0.600000  1.000000\n",
       "2             오렌지주스      0.4    0.400000  1.000000\n",
       "3                와인      0.6    0.600000  1.000000\n",
       "4                콜라      0.8    0.800000  1.000000\n",
       "5             소주,맥주      0.2    0.200000  1.000000\n",
       "6      맥주        소주      0.2    0.500000  0.833333\n",
       "7      소주        맥주      0.2    0.333333  0.833333\n",
       "8             와인,맥주      0.2    0.200000  1.000000\n",
       "9      맥주        와인      0.2    0.500000  0.833333\n",
       "10     와인        맥주      0.2    0.333333  0.833333\n",
       "11            맥주,콜라      0.4    0.400000  1.000000\n",
       "12     맥주        콜라      0.4    1.000000  1.250000\n",
       "13     콜라        맥주      0.4    0.500000  1.250000\n",
       "14         소주,오렌지주스      0.2    0.200000  1.000000\n",
       "15     소주     오렌지주스      0.2    0.333333  0.833333\n",
       "16  오렌지주스        소주      0.2    0.500000  0.833333\n",
       "17            와인,소주      0.2    0.200000  1.000000\n",
       "18     소주        와인      0.2    0.333333  0.555556\n",
       "19     와인        소주      0.2    0.333333  0.555556\n",
       "20            소주,콜라      0.6    0.600000  1.000000\n",
       "21     소주        콜라      0.6    1.000000  1.250000\n",
       "22     콜라        소주      0.6    0.750000  1.250000\n",
       "23         와인,오렌지주스      0.2    0.200000  1.000000\n",
       "24  오렌지주스        와인      0.2    0.500000  0.833333"
      ]
     },
     "execution_count": 10,
     "metadata": {},
     "output_type": "execute_result"
    }
   ],
   "source": [
    "import pandas as pd\n",
    "result_df = pd.DataFrame(None, columns=[\"lhs\", \"rhs\", \n",
    "                                        \"support\", \"confidence\", \"lift\"])\n",
    "index = 0\n",
    "\n",
    "for result in results:\n",
    "    support = result[1]\n",
    "    for ordered_item in result[2]:\n",
    "        lhs = ','.join(ordered_item[0])\n",
    "        rhs = ','.join(ordered_item[1])\n",
    "        confidence = ordered_item[2]\n",
    "        lift = ordered_item[3]\n",
    "        result_df.loc[index] = [lhs, rhs, support, confidence, lift]\n",
    "        index += 1\n",
    "\n",
    "result_df.head(25)"
   ]
  },
  {
   "cell_type": "code",
   "execution_count": 11,
   "metadata": {},
   "outputs": [
    {
     "data": {
      "text/html": [
       "<div>\n",
       "<style scoped>\n",
       "    .dataframe tbody tr th:only-of-type {\n",
       "        vertical-align: middle;\n",
       "    }\n",
       "\n",
       "    .dataframe tbody tr th {\n",
       "        vertical-align: top;\n",
       "    }\n",
       "\n",
       "    .dataframe thead th {\n",
       "        text-align: right;\n",
       "    }\n",
       "</style>\n",
       "<table border=\"1\" class=\"dataframe\">\n",
       "  <thead>\n",
       "    <tr style=\"text-align: right;\">\n",
       "      <th></th>\n",
       "      <th>lhs</th>\n",
       "      <th>rhs</th>\n",
       "      <th>support</th>\n",
       "      <th>confidence</th>\n",
       "      <th>lift</th>\n",
       "    </tr>\n",
       "  </thead>\n",
       "  <tbody>\n",
       "    <tr>\n",
       "      <th>18</th>\n",
       "      <td>소주</td>\n",
       "      <td>와인</td>\n",
       "      <td>0.2</td>\n",
       "      <td>0.333333</td>\n",
       "      <td>0.555556</td>\n",
       "    </tr>\n",
       "  </tbody>\n",
       "</table>\n",
       "</div>"
      ],
      "text/plain": [
       "   lhs rhs  support  confidence      lift\n",
       "18  소주  와인      0.2    0.333333  0.555556"
      ]
     },
     "execution_count": 11,
     "metadata": {},
     "output_type": "execute_result"
    }
   ],
   "source": [
    "result_df.loc[(result_df.lhs==\"소주\") & (result_df.rhs==\"와인\")]"
   ]
  }
 ],
 "metadata": {
  "kernelspec": {
   "display_name": "Python 3 (ipykernel)",
   "language": "python",
   "name": "python3"
  },
  "language_info": {
   "codemirror_mode": {
    "name": "ipython",
    "version": 3
   },
   "file_extension": ".py",
   "mimetype": "text/x-python",
   "name": "python",
   "nbconvert_exporter": "python",
   "pygments_lexer": "ipython3",
   "version": "3.11.7"
  },
  "toc": {
   "base_numbering": 1,
   "nav_menu": {},
   "number_sections": true,
   "sideBar": true,
   "skip_h1_title": false,
   "title_cell": "Table of Contents",
   "title_sidebar": "Contents",
   "toc_cell": false,
   "toc_position": {},
   "toc_section_display": true,
   "toc_window_display": false
  },
  "varInspector": {
   "cols": {
    "lenName": 16,
    "lenType": 16,
    "lenVar": 40
   },
   "kernels_config": {
    "python": {
     "delete_cmd_postfix": "",
     "delete_cmd_prefix": "del ",
     "library": "var_list.py",
     "varRefreshCmd": "print(var_dic_list())"
    },
    "r": {
     "delete_cmd_postfix": ") ",
     "delete_cmd_prefix": "rm(",
     "library": "var_list.r",
     "varRefreshCmd": "cat(var_dic_list()) "
    }
   },
   "types_to_exclude": [
    "module",
    "function",
    "builtin_function_or_method",
    "instance",
    "_Feature"
   ],
   "window_display": false
  }
 },
 "nbformat": 4,
 "nbformat_minor": 4
}
