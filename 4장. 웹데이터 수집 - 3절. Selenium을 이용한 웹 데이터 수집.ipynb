{
 "cells": [
  {
   "cell_type": "code",
   "execution_count": 42,
   "metadata": {},
   "outputs": [],
   "source": [
    "# ! pip install selenium"
   ]
  },
  {
   "cell_type": "code",
   "execution_count": 43,
   "metadata": {},
   "outputs": [
    {
     "name": "stdout",
     "output_type": "stream",
     "text": [
      "4.21.0\n"
     ]
    }
   ],
   "source": [
    "import selenium\n",
    "print(selenium.__version__)"
   ]
  },
  {
   "cell_type": "code",
   "execution_count": 44,
   "metadata": {},
   "outputs": [],
   "source": [
    "from selenium import webdriver"
   ]
  },
  {
   "cell_type": "code",
   "execution_count": 47,
   "metadata": {},
   "outputs": [],
   "source": [
    "driver = webdriver.Chrome()"
   ]
  },
  {
   "cell_type": "code",
   "execution_count": 48,
   "metadata": {},
   "outputs": [],
   "source": [
    "driver.get(\"http://www.python.org\")"
   ]
  },
  {
   "cell_type": "code",
   "execution_count": 49,
   "metadata": {},
   "outputs": [
    {
     "name": "stdout",
     "output_type": "stream",
     "text": [
      "<selenium.webdriver.remote.webelement.WebElement (session=\"95dbd78de2738966d40b69286b9d7b5f\", element=\"f.EA63F3C01C52050792D3A9A1BAD513BF.d.2B238B101E3E30BF9974EE89C7725EAA.e.6\")>\n"
     ]
    }
   ],
   "source": [
    "el = driver.find_element(by=\"id\", value=\"id-search-field\")\n",
    "print(el)\n",
    "el.send_keys(\"pycon\")\n",
    "\n",
    "from selenium.webdriver.common.keys import Keys\n",
    "el.send_keys(Keys.RETURN)"
   ]
  },
  {
   "cell_type": "code",
   "execution_count": 51,
   "metadata": {},
   "outputs": [
    {
     "data": {
      "text/plain": [
       "'\\ue006'"
      ]
     },
     "execution_count": 51,
     "metadata": {},
     "output_type": "execute_result"
    }
   ],
   "source": [
    "Keys.RETURN"
   ]
  },
  {
   "cell_type": "code",
   "execution_count": 52,
   "metadata": {},
   "outputs": [],
   "source": [
    "driver.close()"
   ]
  },
  {
   "cell_type": "code",
   "execution_count": 53,
   "metadata": {},
   "outputs": [
    {
     "name": "stdout",
     "output_type": "stream",
     "text": [
      "7\n",
      "About\n",
      "Downloads\n",
      "Documentation\n",
      "Community\n",
      "Success Stories\n",
      "News\n",
      "Events\n"
     ]
    }
   ],
   "source": [
    "from selenium import webdriver\n",
    "driver = webdriver.Chrome()\n",
    "\n",
    "driver.get(\"http://www.python.org\")\n",
    "\n",
    "result_list = driver.find_elements(By.CSS_SELECTOR, value=\"nav#mainnav > ul.navigation > li > a\")\n",
    "print(len(result_list))\n",
    "\n",
    "for result in result_list:\n",
    "    print(result.text)\n",
    "\n",
    "driver.close()"
   ]
  },
  {
   "cell_type": "code",
   "execution_count": 54,
   "metadata": {},
   "outputs": [
    {
     "name": "stdout",
     "output_type": "stream",
     "text": [
      "PSF PyCon Trademark Usage Policy\n",
      "PyCon Italia 2016 (PyCon Sette)\n",
      "PyCon PL 2014\n",
      "PyCon Home at python.org\n",
      "PyCon Australia 2013\n",
      "PyCon AU 2019\n",
      "PyCon Australia 2014\n",
      "PyCon Ireland 2012\n",
      "PyCon Ireland 2016\n",
      "PyCon Ireland 2022\n",
      "PyCon Australia 2014\n",
      "2012-07-16 PSF Board Meeting Minutes\n",
      "PyCon AU 2018\n",
      "PyCon APAC 2022\n",
      "PyCon PH 2024\n",
      "PyCon Ireland 2023\n",
      "PyCon MY 2015\n",
      "PyCon Ireland 2015\n",
      "PyCon AU 2015\n",
      "Volunteer Opportunities for PyCon US\n"
     ]
    }
   ],
   "source": [
    "from selenium import webdriver\n",
    "from selenium.webdriver.common.keys import Keys\n",
    "\n",
    "driver = webdriver.Chrome()\n",
    "\n",
    "driver.get(\"http://www.python.org\")\n",
    "\n",
    "el = driver.find_element(by=\"id\", value=\"id-search-field\")\n",
    "el.send_keys(\"pycon\")\n",
    "el.send_keys(Keys.RETURN)\n",
    "\n",
    "result_list = driver.find_elements(by=By.CSS_SELECTOR, value=\"form h3 > a\")\n",
    "for result in result_list:\n",
    "    print(result.text)\n",
    "\n",
    "driver.close()"
   ]
  },
  {
   "cell_type": "code",
   "execution_count": 19,
   "metadata": {},
   "outputs": [
    {
     "name": "stdout",
     "output_type": "stream",
     "text": [
      "Overwriting test.html\n"
     ]
    }
   ],
   "source": [
    "%%writefile \"test.html\"\n",
    "<!doctype html>\n",
    "<body>\n",
    "    <h1>Welcome</h1>\n",
    "    <form id=\"loginForm\">\n",
    "        <input name=\"username\" type=\"text\"/>\n",
    "        <input name=\"password\" type=\"password\" />\n",
    "        <input type=\"submit\" value=\"Login\" />\n",
    "        <input type=\"button\" value=\"Clear\" />\n",
    "    </form>\n",
    "    <p>Are you sure you want to do this?</p>\n",
    "    <a href=\"http://javaspecialist.co.kr\">자바전문가그룹</a>\n",
    "    <p class=\"content\">Site content goes here.</p>\n",
    "</body>\n",
    "<html>"
   ]
  },
  {
   "cell_type": "code",
   "execution_count": 20,
   "metadata": {},
   "outputs": [],
   "source": [
    "import os\n",
    "html_file = os.getcwd() + \"/test.html\"\n",
    "from selenium import webdriver\n",
    "driver = webdriver.Chrome()\n",
    "driver.get(\"file:///\" + html_file)"
   ]
  },
  {
   "cell_type": "code",
   "execution_count": 21,
   "metadata": {},
   "outputs": [],
   "source": [
    "login_form = driver.find_element(by='id', value='loginForm')"
   ]
  },
  {
   "cell_type": "code",
   "execution_count": 22,
   "metadata": {},
   "outputs": [
    {
     "name": "stdout",
     "output_type": "stream",
     "text": [
      "<selenium.webdriver.remote.webelement.WebElement (session=\"3a49438823b14695251431c773702679\", element=\"f.5CEA69B132CDF06E75EF7929D6D58CEE.d.2F009B85B5E4CAE0B95F203E7D83ED85.e.2\")> <selenium.webdriver.remote.webelement.WebElement (session=\"3a49438823b14695251431c773702679\", element=\"f.5CEA69B132CDF06E75EF7929D6D58CEE.d.2F009B85B5E4CAE0B95F203E7D83ED85.e.3\")>\n"
     ]
    }
   ],
   "source": [
    "username = driver.find_element(by='name', value='username')\n",
    "password = driver.find_element(by='name', value='password')\n",
    "print(username, password)"
   ]
  },
  {
   "cell_type": "code",
   "execution_count": 23,
   "metadata": {},
   "outputs": [
    {
     "name": "stdout",
     "output_type": "stream",
     "text": [
      "<selenium.webdriver.remote.webelement.WebElement (session=\"3a49438823b14695251431c773702679\", element=\"f.5CEA69B132CDF06E75EF7929D6D58CEE.d.2F009B85B5E4CAE0B95F203E7D83ED85.e.1\")>\n"
     ]
    }
   ],
   "source": [
    "login_form = driver.find_element(by='xpath', value=\"/html/body/form[1]\")\n",
    "print(login_form)"
   ]
  },
  {
   "cell_type": "code",
   "execution_count": 24,
   "metadata": {},
   "outputs": [],
   "source": [
    "login_form = driver.find_element(by='xpath', value=\"//form[1]\")"
   ]
  },
  {
   "cell_type": "code",
   "execution_count": 25,
   "metadata": {},
   "outputs": [],
   "source": [
    "login_form = driver.find_element(by='xpath', value=\"//form[@id='loginForm']\")"
   ]
  },
  {
   "cell_type": "code",
   "execution_count": 26,
   "metadata": {},
   "outputs": [],
   "source": [
    "username = driver.find_element(by='xpath', value=\"//form[input/@name='username']\")"
   ]
  },
  {
   "cell_type": "code",
   "execution_count": 27,
   "metadata": {},
   "outputs": [],
   "source": [
    "username = driver.find_element(by='xpath', value=\"//form[@id='loginForm']/input[1]\")"
   ]
  },
  {
   "cell_type": "code",
   "execution_count": 28,
   "metadata": {},
   "outputs": [],
   "source": [
    "username = driver.find_element(by='xpath', value=\"//input[@name='username']\")"
   ]
  },
  {
   "cell_type": "code",
   "execution_count": 29,
   "metadata": {},
   "outputs": [],
   "source": [
    "clear_button = driver.find_element(by='xpath', value=\"//input[@type='button']\") "
   ]
  },
  {
   "cell_type": "code",
   "execution_count": 30,
   "metadata": {},
   "outputs": [],
   "source": [
    "clear_button = driver.find_element(by='xpath', value=\"//form[@id='loginForm']/input[4]\")"
   ]
  },
  {
   "cell_type": "code",
   "execution_count": 31,
   "metadata": {},
   "outputs": [],
   "source": [
    "continue_link = driver.find_element(by='partial link text', value='자바')"
   ]
  },
  {
   "cell_type": "code",
   "execution_count": 32,
   "metadata": {},
   "outputs": [],
   "source": [
    "heading1 = driver.find_element(by='tag name', value='h1')"
   ]
  },
  {
   "cell_type": "code",
   "execution_count": 33,
   "metadata": {},
   "outputs": [],
   "source": [
    "content = driver.find_element(by='class name', value='content')"
   ]
  },
  {
   "cell_type": "code",
   "execution_count": 34,
   "metadata": {},
   "outputs": [],
   "source": [
    "content = driver.find_element(by='css selector', value='p.content')"
   ]
  },
  {
   "cell_type": "code",
   "execution_count": 35,
   "metadata": {},
   "outputs": [],
   "source": [
    "driver.close()"
   ]
  },
  {
   "cell_type": "code",
   "execution_count": 36,
   "metadata": {},
   "outputs": [
    {
     "name": "stdout",
     "output_type": "stream",
     "text": [
      "PSF PyCon Trademark Usage Policy\n",
      "PyCon Italia 2016 (PyCon Sette)\n",
      "PyCon PL 2014\n",
      "PyCon Home at python.org\n",
      "PyCon Australia 2013\n",
      "PyCon AU 2019\n",
      "PyCon Australia 2014\n",
      "PyCon Ireland 2012\n",
      "PyCon Ireland 2016\n",
      "PyCon Ireland 2022\n",
      "PyCon Australia 2014\n",
      "2012-07-16 PSF Board Meeting Minutes\n",
      "PyCon AU 2018\n",
      "PyCon APAC 2022\n",
      "PyCon PH 2024\n",
      "PyCon Ireland 2023\n",
      "PyCon MY 2015\n",
      "PyCon Ireland 2015\n",
      "PyCon AU 2015\n",
      "Volunteer Opportunities for PyCon US\n"
     ]
    }
   ],
   "source": [
    "driver = webdriver.Chrome()\n",
    "driver.get(\"http://www.python.org\")\n",
    "elem = driver.find_element(by='css selector', value='#id-search-field')\n",
    "elem.clear()\n",
    "elem.send_keys(\"pycon\")\n",
    " \n",
    "from selenium.webdriver.common.keys import Keys\n",
    "elem.send_keys(Keys.RETURN)\n",
    " \n",
    "from selenium.webdriver.support.ui import WebDriverWait\n",
    "from selenium.webdriver.support import expected_conditions as EC\n",
    "from selenium.webdriver.common.by import By\n",
    " \n",
    "try :\n",
    "    result_list = WebDriverWait(driver, 2).until(\n",
    "        EC.presence_of_all_elements_located((By.CSS_SELECTOR, \"form h3 > a\"))\n",
    "    )\n",
    " \n",
    "    for result in result_list:\n",
    "        print(result.text)\n",
    "except Exception as e:\n",
    "    print(e)\n",
    "finally :\n",
    "    driver.close()"
   ]
  },
  {
   "cell_type": "code",
   "execution_count": 37,
   "metadata": {},
   "outputs": [
    {
     "name": "stdout",
     "output_type": "stream",
     "text": [
      "tier-1 element-1  \n"
     ]
    }
   ],
   "source": [
    "driver = webdriver.Chrome()\n",
    "driver.get(\"http://www.python.org\")\n",
    "element = driver.find_element(by='css selector', value='nav#mainnav > ul.navigation > li')\n",
    "print(element.get_attribute('class'))\n",
    "driver.close()"
   ]
  },
  {
   "cell_type": "code",
   "execution_count": 38,
   "metadata": {},
   "outputs": [],
   "source": [
    "class element_has_css_class(object):\n",
    "    \"\"\"요소가 특별한 CSS 클래스 속성을 갖는 것을 체크하는 예\n",
    "\n",
    "    by, value - 요소를 찾기 위해 사용\n",
    "    요소가 지정한 CSS 클래스 속성을 가지면  WebElement를 반환\n",
    "    \"\"\"\n",
    "    def __init__(self, by, value, css_name):\n",
    "        self.by = by\n",
    "        self.value = value\n",
    "        self.css_name = css_name\n",
    " \n",
    "    def __call__(self, driver):\n",
    "        element = driver.find_element(by=self.by, value=self.value)\n",
    "        if self.css_name in element.get_attribute(\"class\"):\n",
    "            return element\n",
    "        else:\n",
    "            return False"
   ]
  },
  {
   "cell_type": "code",
   "execution_count": 39,
   "metadata": {},
   "outputs": [
    {
     "name": "stdout",
     "output_type": "stream",
     "text": [
      "<selenium.webdriver.remote.webelement.WebElement (session=\"ba5482ef065b99c76a4da09dc12cf4c0\", element=\"f.11985140727A604DCFAAB808CC762838.d.C0FE49195959B47473D57C7B76DEFE12.e.27\")>\n"
     ]
    }
   ],
   "source": [
    "from selenium.webdriver.support.ui import WebDriverWait\n",
    "driver = webdriver.Chrome()\n",
    "\n",
    "wait = WebDriverWait(driver, 5) # 최대 5초까지 대기\n",
    "driver.get(\"http://www.python.org\")\n",
    "\n",
    "element = wait.until(element_has_css_class('css selector', 'nav#mainnav > ul.navigation > li', 'element-1'))\n",
    "print(element)\n",
    "driver.close()"
   ]
  },
  {
   "cell_type": "code",
   "execution_count": 40,
   "metadata": {},
   "outputs": [
    {
     "name": "stdout",
     "output_type": "stream",
     "text": [
      "About\n",
      "Downloads\n",
      "Documentation\n",
      "Community\n",
      "Success Stories\n",
      "News\n",
      "Events\n"
     ]
    }
   ],
   "source": [
    "from selenium import webdriver\n",
    " \n",
    "driver = webdriver.Chrome()\n",
    "driver.get(\"https://www.python.org/\")\n",
    "driver.implicitly_wait(5) # 초 단위\n",
    "menu_list = driver.find_elements(By.CSS_SELECTOR, value=\"nav#mainnav > ul.navigation > li > a\")\n",
    "for menu in menu_list:\n",
    "    print(menu.text)\n",
    "driver.close()"
   ]
  },
  {
   "cell_type": "code",
   "execution_count": null,
   "metadata": {},
   "outputs": [],
   "source": []
  }
 ],
 "metadata": {
  "kernelspec": {
   "display_name": "Python 3 (ipykernel)",
   "language": "python",
   "name": "python3"
  },
  "language_info": {
   "codemirror_mode": {
    "name": "ipython",
    "version": 3
   },
   "file_extension": ".py",
   "mimetype": "text/x-python",
   "name": "python",
   "nbconvert_exporter": "python",
   "pygments_lexer": "ipython3",
   "version": "3.11.7"
  },
  "toc": {
   "base_numbering": 1,
   "nav_menu": {},
   "number_sections": true,
   "sideBar": true,
   "skip_h1_title": false,
   "title_cell": "Table of Contents",
   "title_sidebar": "Contents",
   "toc_cell": false,
   "toc_position": {},
   "toc_section_display": true,
   "toc_window_display": false
  }
 },
 "nbformat": 4,
 "nbformat_minor": 4
}
